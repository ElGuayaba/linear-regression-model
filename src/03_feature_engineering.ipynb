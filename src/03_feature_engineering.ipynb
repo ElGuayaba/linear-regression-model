{
    "cells": [
        {
            "cell_type": "markdown",
            "metadata": {},
            "source": [
                "## Feature Engineering"
            ]
        },
        {
            "cell_type": "markdown",
            "metadata": {},
            "source": [
                "### Feature engineering\n",
                "#### Missing value analysis."
            ]
        },
        {
            "cell_type": "markdown",
            "metadata": {},
            "source": [
                "Let's analyse the dataset for missing values:"
            ]
        },
        {
            "cell_type": "code",
            "execution_count": 63,
            "metadata": {},
            "outputs": [
                {
                    "data": {
                        "text/html": [
                            "<div>\n",
                            "<style scoped>\n",
                            "    .dataframe tbody tr th:only-of-type {\n",
                            "        vertical-align: middle;\n",
                            "    }\n",
                            "\n",
                            "    .dataframe tbody tr th {\n",
                            "        vertical-align: top;\n",
                            "    }\n",
                            "\n",
                            "    .dataframe thead th {\n",
                            "        text-align: right;\n",
                            "    }\n",
                            "</style>\n",
                            "<table border=\"1\" class=\"dataframe\">\n",
                            "  <thead>\n",
                            "    <tr style=\"text-align: right;\">\n",
                            "      <th></th>\n",
                            "      <th>age</th>\n",
                            "      <th>sex</th>\n",
                            "      <th>bmi</th>\n",
                            "      <th>children</th>\n",
                            "      <th>smoker</th>\n",
                            "      <th>region</th>\n",
                            "      <th>charges</th>\n",
                            "    </tr>\n",
                            "  </thead>\n",
                            "  <tbody>\n",
                            "    <tr>\n",
                            "      <th>count</th>\n",
                            "      <td>1338.000000</td>\n",
                            "      <td>1338.000000</td>\n",
                            "      <td>1338.000000</td>\n",
                            "      <td>1338.000000</td>\n",
                            "      <td>1338.000000</td>\n",
                            "      <td>1338.000000</td>\n",
                            "      <td>1338.000000</td>\n",
                            "    </tr>\n",
                            "    <tr>\n",
                            "      <th>mean</th>\n",
                            "      <td>39.207025</td>\n",
                            "      <td>0.505232</td>\n",
                            "      <td>30.663397</td>\n",
                            "      <td>1.094918</td>\n",
                            "      <td>0.795217</td>\n",
                            "      <td>1.484305</td>\n",
                            "      <td>13270.422265</td>\n",
                            "    </tr>\n",
                            "    <tr>\n",
                            "      <th>std</th>\n",
                            "      <td>14.049960</td>\n",
                            "      <td>0.500160</td>\n",
                            "      <td>6.098187</td>\n",
                            "      <td>1.205493</td>\n",
                            "      <td>0.403694</td>\n",
                            "      <td>1.104885</td>\n",
                            "      <td>12110.011237</td>\n",
                            "    </tr>\n",
                            "    <tr>\n",
                            "      <th>min</th>\n",
                            "      <td>18.000000</td>\n",
                            "      <td>0.000000</td>\n",
                            "      <td>15.960000</td>\n",
                            "      <td>0.000000</td>\n",
                            "      <td>0.000000</td>\n",
                            "      <td>0.000000</td>\n",
                            "      <td>1121.873900</td>\n",
                            "    </tr>\n",
                            "    <tr>\n",
                            "      <th>25%</th>\n",
                            "      <td>27.000000</td>\n",
                            "      <td>0.000000</td>\n",
                            "      <td>26.296250</td>\n",
                            "      <td>0.000000</td>\n",
                            "      <td>1.000000</td>\n",
                            "      <td>1.000000</td>\n",
                            "      <td>4740.287150</td>\n",
                            "    </tr>\n",
                            "    <tr>\n",
                            "      <th>50%</th>\n",
                            "      <td>39.000000</td>\n",
                            "      <td>1.000000</td>\n",
                            "      <td>30.400000</td>\n",
                            "      <td>1.000000</td>\n",
                            "      <td>1.000000</td>\n",
                            "      <td>1.000000</td>\n",
                            "      <td>9382.033000</td>\n",
                            "    </tr>\n",
                            "    <tr>\n",
                            "      <th>75%</th>\n",
                            "      <td>51.000000</td>\n",
                            "      <td>1.000000</td>\n",
                            "      <td>34.693750</td>\n",
                            "      <td>2.000000</td>\n",
                            "      <td>1.000000</td>\n",
                            "      <td>2.000000</td>\n",
                            "      <td>16639.912515</td>\n",
                            "    </tr>\n",
                            "    <tr>\n",
                            "      <th>max</th>\n",
                            "      <td>64.000000</td>\n",
                            "      <td>1.000000</td>\n",
                            "      <td>53.130000</td>\n",
                            "      <td>5.000000</td>\n",
                            "      <td>1.000000</td>\n",
                            "      <td>3.000000</td>\n",
                            "      <td>63770.428010</td>\n",
                            "    </tr>\n",
                            "  </tbody>\n",
                            "</table>\n",
                            "</div>"
                        ],
                        "text/plain": [
                            "               age          sex          bmi     children       smoker  \\\n",
                            "count  1338.000000  1338.000000  1338.000000  1338.000000  1338.000000   \n",
                            "mean     39.207025     0.505232    30.663397     1.094918     0.795217   \n",
                            "std      14.049960     0.500160     6.098187     1.205493     0.403694   \n",
                            "min      18.000000     0.000000    15.960000     0.000000     0.000000   \n",
                            "25%      27.000000     0.000000    26.296250     0.000000     1.000000   \n",
                            "50%      39.000000     1.000000    30.400000     1.000000     1.000000   \n",
                            "75%      51.000000     1.000000    34.693750     2.000000     1.000000   \n",
                            "max      64.000000     1.000000    53.130000     5.000000     1.000000   \n",
                            "\n",
                            "            region       charges  \n",
                            "count  1338.000000   1338.000000  \n",
                            "mean      1.484305  13270.422265  \n",
                            "std       1.104885  12110.011237  \n",
                            "min       0.000000   1121.873900  \n",
                            "25%       1.000000   4740.287150  \n",
                            "50%       1.000000   9382.033000  \n",
                            "75%       2.000000  16639.912515  \n",
                            "max       3.000000  63770.428010  "
                        ]
                    },
                    "execution_count": 63,
                    "metadata": {},
                    "output_type": "execute_result"
                }
            ],
            "source": [
                "import pandas as pd\n",
                "total_data = pd.read_csv(\"../data/interim/factorised_eda_results.csv\")\n",
                "total_data.describe()"
            ]
        },
        {
            "cell_type": "markdown",
            "metadata": {},
            "source": [
                "We know for a fact that the dataset doesn't have any nulls. From the table above we can now also deduce that the dataset doesn't have any invalid mins or max, so, overall, the data seems to be pretty consistent."
            ]
        },
        {
            "cell_type": "markdown",
            "metadata": {},
            "source": [
                "#### Outlier analysis\n",
                "Now that we have a tidier dataset, we can proceed to study the outliers."
            ]
        },
        {
            "cell_type": "code",
            "execution_count": 64,
            "metadata": {},
            "outputs": [
                {
                    "data": {
                        "text/html": [
                            "<div>\n",
                            "<style scoped>\n",
                            "    .dataframe tbody tr th:only-of-type {\n",
                            "        vertical-align: middle;\n",
                            "    }\n",
                            "\n",
                            "    .dataframe tbody tr th {\n",
                            "        vertical-align: top;\n",
                            "    }\n",
                            "\n",
                            "    .dataframe thead th {\n",
                            "        text-align: right;\n",
                            "    }\n",
                            "</style>\n",
                            "<table border=\"1\" class=\"dataframe\">\n",
                            "  <thead>\n",
                            "    <tr style=\"text-align: right;\">\n",
                            "      <th></th>\n",
                            "      <th>age</th>\n",
                            "      <th>bmi</th>\n",
                            "      <th>children</th>\n",
                            "      <th>charges</th>\n",
                            "    </tr>\n",
                            "  </thead>\n",
                            "  <tbody>\n",
                            "    <tr>\n",
                            "      <th>count</th>\n",
                            "      <td>1338.000000</td>\n",
                            "      <td>1338.000000</td>\n",
                            "      <td>1338.000000</td>\n",
                            "      <td>1338.000000</td>\n",
                            "    </tr>\n",
                            "    <tr>\n",
                            "      <th>mean</th>\n",
                            "      <td>39.207025</td>\n",
                            "      <td>30.663397</td>\n",
                            "      <td>1.094918</td>\n",
                            "      <td>13270.422265</td>\n",
                            "    </tr>\n",
                            "    <tr>\n",
                            "      <th>std</th>\n",
                            "      <td>14.049960</td>\n",
                            "      <td>6.098187</td>\n",
                            "      <td>1.205493</td>\n",
                            "      <td>12110.011237</td>\n",
                            "    </tr>\n",
                            "    <tr>\n",
                            "      <th>min</th>\n",
                            "      <td>18.000000</td>\n",
                            "      <td>15.960000</td>\n",
                            "      <td>0.000000</td>\n",
                            "      <td>1121.873900</td>\n",
                            "    </tr>\n",
                            "    <tr>\n",
                            "      <th>25%</th>\n",
                            "      <td>27.000000</td>\n",
                            "      <td>26.296250</td>\n",
                            "      <td>0.000000</td>\n",
                            "      <td>4740.287150</td>\n",
                            "    </tr>\n",
                            "    <tr>\n",
                            "      <th>50%</th>\n",
                            "      <td>39.000000</td>\n",
                            "      <td>30.400000</td>\n",
                            "      <td>1.000000</td>\n",
                            "      <td>9382.033000</td>\n",
                            "    </tr>\n",
                            "    <tr>\n",
                            "      <th>75%</th>\n",
                            "      <td>51.000000</td>\n",
                            "      <td>34.693750</td>\n",
                            "      <td>2.000000</td>\n",
                            "      <td>16639.912515</td>\n",
                            "    </tr>\n",
                            "    <tr>\n",
                            "      <th>max</th>\n",
                            "      <td>64.000000</td>\n",
                            "      <td>53.130000</td>\n",
                            "      <td>5.000000</td>\n",
                            "      <td>63770.428010</td>\n",
                            "    </tr>\n",
                            "  </tbody>\n",
                            "</table>\n",
                            "</div>"
                        ],
                        "text/plain": [
                            "               age          bmi     children       charges\n",
                            "count  1338.000000  1338.000000  1338.000000   1338.000000\n",
                            "mean     39.207025    30.663397     1.094918  13270.422265\n",
                            "std      14.049960     6.098187     1.205493  12110.011237\n",
                            "min      18.000000    15.960000     0.000000   1121.873900\n",
                            "25%      27.000000    26.296250     0.000000   4740.287150\n",
                            "50%      39.000000    30.400000     1.000000   9382.033000\n",
                            "75%      51.000000    34.693750     2.000000  16639.912515\n",
                            "max      64.000000    53.130000     5.000000  63770.428010"
                        ]
                    },
                    "execution_count": 64,
                    "metadata": {},
                    "output_type": "execute_result"
                }
            ],
            "source": [
                "total_data[['age', 'bmi', 'children', 'charges']].describe()"
            ]
        },
        {
            "cell_type": "markdown",
            "metadata": {},
            "source": [
                "overall, the data seems to be normally distributed except for the target, for which the max value is several times larger than the 75th percentile. The difference doesn't seem to be very significant so let's leave the dataset as it is for now."
            ]
        },
        {
            "cell_type": "markdown",
            "metadata": {},
            "source": [
                "#### Feature engineering\n",
                "The dataset seems clean and complete, so we won't try to add any new columns. Let's split it and prepare it for training:"
            ]
        },
        {
            "cell_type": "markdown",
            "metadata": {},
            "source": [
                "#### Feature scaling\n",
                "Let's scale our features now"
            ]
        },
        {
            "cell_type": "code",
            "execution_count": 96,
            "metadata": {},
            "outputs": [],
            "source": [
                "from sklearn.preprocessing import MinMaxScaler\n",
                "\n",
                "num_variables = list(total_data.columns)\n",
                "num_variables.remove('charges')\n",
                "\n",
                "scaler = MinMaxScaler()\n",
                "norm_features = scaler.fit_transform(total_data[num_variables])\n",
                "total_data_norm = pd.DataFrame(norm_features, index = total_data.index, columns = num_variables)\n",
                "total_data_norm[\"charges\"] = total_data[\"charges\"]\n",
                "total_data_norm.head()\n",
                "total_data.to_csv(\"../data/processed/scaled_data.csv\")"
            ]
        }
    ],
    "metadata": {
        "kernelspec": {
            "display_name": "Python 3.8.13 64-bit ('3.8.13')",
            "language": "python",
            "name": "python3"
        },
        "language_info": {
            "codemirror_mode": {
                "name": "ipython",
                "version": 3
            },
            "file_extension": ".py",
            "mimetype": "text/x-python",
            "name": "python",
            "nbconvert_exporter": "python",
            "pygments_lexer": "ipython3",
            "version": "3.11.5"
        },
        "orig_nbformat": 4,
        "vscode": {
            "interpreter": {
                "hash": "110cc1dee26208153f2972f08a2ad52b6a56238dc66d48e87fb757ef2996db56"
            }
        }
    },
    "nbformat": 4,
    "nbformat_minor": 2
}
