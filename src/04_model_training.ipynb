{
    "cells": [
        {
            "cell_type": "markdown",
            "metadata": {},
            "source": [
                "## Model Training"
            ]
        },
        {
            "cell_type": "markdown",
            "metadata": {},
            "source": [
                "Now that we've prepared the dataset, let's split the data and train the model."
            ]
        },
        {
            "cell_type": "code",
            "execution_count": 13,
            "metadata": {},
            "outputs": [
                {
                    "data": {
                        "text/plain": [
                            "0.7970561040137825"
                        ]
                    },
                    "execution_count": 13,
                    "metadata": {},
                    "output_type": "execute_result"
                }
            ],
            "source": [
                "from sklearn.linear_model  import LinearRegression\n",
                "from sklearn.model_selection import train_test_split\n",
                "import pandas as pd\n",
                "\n",
                "total_data_norm = pd.read_csv(\"../data/interim/factorised_eda_results.csv\")\n",
                "\n",
                "# We divide the dataset into training and test samples.\n",
                "X = total_data_norm.drop([\"charges\"], axis = 1)\n",
                "y = total_data_norm[\"charges\"]\n",
                "\n",
                "X_train, X_test, y_train, y_test = train_test_split(X, y, test_size = 0.15, random_state = 42)\n",
                "\n",
                "model = LinearRegression()\n",
                "model.fit(X_train, y_train)\n",
                "model.score(X_test, y_test)"
            ]
        },
        {
            "cell_type": "code",
            "execution_count": 14,
            "metadata": {},
            "outputs": [
                {
                    "name": "stdout",
                    "output_type": "stream",
                    "text": [
                        "Intercept (a): 11374.760308981617\n",
                        "Coefficients (b1, b2): [   260.27696192   -129.81301457    323.58181576    422.49541425\n",
                        " -23771.47159663    225.60529155]\n"
                    ]
                }
            ],
            "source": [
                "print(f\"Intercept (a): {model.intercept_}\")\n",
                "print(f\"Coefficients (b1, b2): {model.coef_}\")"
            ]
        },
        {
            "cell_type": "code",
            "execution_count": 15,
            "metadata": {},
            "outputs": [
                {
                    "name": "stdout",
                    "output_type": "stream",
                    "text": [
                        "Root mean squared error: 5558.9393229312855\n",
                        "Coefficient of determination: 0.7970561040137825\n"
                    ]
                }
            ],
            "source": [
                "from sklearn.metrics import mean_squared_error, r2_score, accuracy_score\n",
                "import numpy as np\n",
                "\n",
                "y_pred = model.predict(X_test)\n",
                "\n",
                "print(f\"Root mean squared error: {np.sqrt(mean_squared_error(y_test, y_pred))}\")\n",
                "print(f\"Coefficient of determination: {r2_score(y_test, y_pred)}\")"
            ]
        },
        {
            "cell_type": "markdown",
            "metadata": {},
            "source": [
                "Let's store the resulting model."
            ]
        },
        {
            "cell_type": "code",
            "execution_count": 16,
            "metadata": {},
            "outputs": [],
            "source": [
                "import pickle\n",
                "\n",
                "with open(\"../models/linear_regression_model.pkl\", \"wb\") as f:\n",
                "    pickle.dump(model, f)\n"
            ]
        }
    ],
    "metadata": {
        "kernelspec": {
            "display_name": "Python 3.8.13 64-bit ('3.8.13')",
            "language": "python",
            "name": "python3"
        },
        "language_info": {
            "codemirror_mode": {
                "name": "ipython",
                "version": 3
            },
            "file_extension": ".py",
            "mimetype": "text/x-python",
            "name": "python",
            "nbconvert_exporter": "python",
            "pygments_lexer": "ipython3",
            "version": "3.11.5"
        },
        "orig_nbformat": 4,
        "vscode": {
            "interpreter": {
                "hash": "110cc1dee26208153f2972f08a2ad52b6a56238dc66d48e87fb757ef2996db56"
            }
        }
    },
    "nbformat": 4,
    "nbformat_minor": 2
}
